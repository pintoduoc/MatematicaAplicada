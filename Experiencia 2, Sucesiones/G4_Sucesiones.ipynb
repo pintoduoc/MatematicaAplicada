{
  "cells": [
    {
      "cell_type": "markdown",
      "metadata": {
        "id": "Jsg7AmugfdN3"
      },
      "source": [
        "# Problema 1"
      ]
    },
    {
      "cell_type": "markdown",
      "metadata": {
        "id": "_IzpNklvfgKe"
      },
      "source": [
        "Considere la sucesión $a_{n} = 3n^{2} + 7$. Por medio de un código en *Python* despliega en pantalla:\n",
        "\n",
        "1. Los primeros $5$ términos.\n",
        "2. Los $5$ términos que vienen inmediatamente después del decimoquinto término."
      ]
    },
    {
      "cell_type": "code",
      "execution_count": null,
      "metadata": {
        "id": "GTl2VtUj9ZDh",
        "outputId": "7da7356f-7ca8-41a0-d2aa-f2d15cb3795c"
      },
      "outputs": [
        {
          "name": "stdout",
          "output_type": "stream",
          "text": [
            "El termino n°1 es equivalente a 10\n",
            "El termino n°2 es equivalente a 19\n",
            "El termino n°3 es equivalente a 34\n",
            "El termino n°4 es equivalente a 55\n",
            "El termino n°5 es equivalente a 82\n"
          ]
        }
      ],
      "source": [
        "#1.1:\n",
        "a_n = []\n",
        "for i in range(1,6):\n",
        "    x = 3*i**2 + 7\n",
        "    a_n.append(x)\n",
        "\n",
        "\n",
        "a = 1\n",
        "for i in a_n:\n",
        "    print(f'El termino n°{a} es equivalente a {i}')\n",
        "    a+=1"
      ]
    },
    {
      "cell_type": "code",
      "execution_count": null,
      "metadata": {
        "id": "UfmtADIo9ZDi",
        "outputId": "19c6f31b-dbd4-46f9-f9ad-8da0afad2972"
      },
      "outputs": [
        {
          "name": "stdout",
          "output_type": "stream",
          "text": [
            "775\n",
            "El termino n°16 es equivalente a 775\n",
            "El termino n°17 es equivalente a 874\n",
            "El termino n°18 es equivalente a 979\n",
            "El termino n°19 es equivalente a 1090\n",
            "El termino n°20 es equivalente a 1207\n"
          ]
        }
      ],
      "source": [
        "#1.2:\n",
        "a_n = []\n",
        "for i in range(16,21):\n",
        "    x = 3*i**2 + 7\n",
        "    a_n.append(x)\n",
        "\n",
        "a = 16\n",
        "for i in a_n:\n",
        "    print(f'El termino n°{a} es equivalente a {i}')\n",
        "    a+=1"
      ]
    },
    {
      "cell_type": "markdown",
      "metadata": {
        "id": "MpHLoYWfk97E"
      },
      "source": [
        "# Problema 2"
      ]
    },
    {
      "cell_type": "markdown",
      "metadata": {
        "id": "TdrPqS7Mk_l0"
      },
      "source": [
        "Considere la sucesión $g_{n} = 5n^{3}$. Implemente un código en *Python* que muestre en pantalla:\n",
        "\n",
        "1. Los primeros $4$ términos de la sucesión.\n",
        "2. Los $4$ términos que vienen inmediatamente después del octavo término.\n",
        "3. Determinar si el término $40.000$ pertenece a la sucesión. Si es así, indicar en qué posición se encuentra."
      ]
    },
    {
      "cell_type": "code",
      "execution_count": null,
      "metadata": {
        "id": "Wd4dHc-O9ZDj",
        "outputId": "4118e28f-3a27-4bc7-d407-90b0b8083114"
      },
      "outputs": [
        {
          "name": "stdout",
          "output_type": "stream",
          "text": [
            "El termino n°1 es equivalente a 5\n",
            "El termino n°2 es equivalente a 40\n",
            "El termino n°3 es equivalente a 135\n",
            "El termino n°4 es equivalente a 320\n"
          ]
        }
      ],
      "source": [
        "#2.1:\n",
        "gn = []\n",
        "for i in range(1,5):\n",
        "    x = 5*i**3\n",
        "    gn.append(x)\n",
        "a = 1\n",
        "for i in gn:\n",
        "    print(f'El termino n°{a} es equivalente a {i}')\n",
        "    a+=1"
      ]
    },
    {
      "cell_type": "code",
      "execution_count": null,
      "metadata": {
        "id": "McBLL5fp9ZDk",
        "outputId": "918dfbcf-7aaf-49cc-fda7-6ae45f5fc2a0"
      },
      "outputs": [
        {
          "name": "stdout",
          "output_type": "stream",
          "text": [
            "3645\n",
            "El termino n°9 es equivalente a 3645\n",
            "El termino n°10 es equivalente a 5000\n",
            "El termino n°11 es equivalente a 6655\n",
            "El termino n°12 es equivalente a 8640\n"
          ]
        }
      ],
      "source": [
        "#2.2:\n",
        "gn = []\n",
        "for i in range(9,13):\n",
        "    x = 5*i**3\n",
        "    gn.append(x)\n",
        "\n",
        "\n",
        "a = 9\n",
        "for i in gn:\n",
        "    print(f'El termino n°{a} es equivalente a {i}')\n",
        "    a+=1"
      ]
    },
    {
      "cell_type": "code",
      "execution_count": null,
      "metadata": {
        "id": "BNF_B9BS9ZDk",
        "outputId": "63e9a1de-d064-4cb9-b909-59714544bf62"
      },
      "outputs": [
        {
          "name": "stdout",
          "output_type": "stream",
          "text": [
            "Si, el termino 40.000 si es parte de la sucesión y se encuentra en la posicion n°20 de la sucesión\n"
          ]
        }
      ],
      "source": [
        "#2.3:\n",
        "gn = []\n",
        "for i in range(1,25):\n",
        "    x = 5*i**3\n",
        "    gn.append(x)\n",
        "\n",
        "print(f'Si, el termino 40.000 si es parte de la sucesión y se encuentra en la posicion n°{gn.index(40000)+1} de la sucesión')"
      ]
    },
    {
      "cell_type": "markdown",
      "metadata": {
        "id": "7GDU-KDLuR7i"
      },
      "source": [
        "# Problema 3"
      ]
    },
    {
      "cell_type": "markdown",
      "metadata": {
        "id": "GG1duXd1uU6Z"
      },
      "source": [
        "La sucesión de Fibonacci es una serie de números en la que cada número, desde el tercero en adelante, es la suma de los dos anteriores. Comienza con el $0$ y $1$, tal como se observa a continuación:\n",
        "\n",
        "$$0, 1, 1, 2, 3, 5, 8, 13, ...$$\n",
        "\n",
        "Formalmente, la sucesión se define de la siguiente manera:\n",
        "\n",
        "\\begin{split}\n",
        "F(0) &= 0\\\\\n",
        "F(1) &= 1\\\\\n",
        "F(n) &= F(n - 1) + F(n - 2), \\ \\text{ para $n \\geq 2$}\n",
        "\\end{split}\n",
        "\n",
        "Esta sucesión se utiliza en una variedad de contextos en informática y algoritmos debido a sus propiedades matemáticas y patrones.\n",
        "\n",
        "1. Implementa un código en *Python* que muestre en pantalla los primeros $20$ términos de la sucesión.\n",
        "2. Calcula, utilizando un ciclo *for*, la suma de los primeros $30$ términos de la sucesión de Fibonacci."
      ]
    },
    {
      "cell_type": "code",
      "execution_count": 7,
      "metadata": {
        "colab": {
          "base_uri": "https://localhost:8080/"
        },
        "id": "76M8Yzfb9ZDl",
        "outputId": "175f587a-4e14-4396-ade8-847b82b9a44c"
      },
      "outputs": [
        {
          "output_type": "stream",
          "name": "stdout",
          "text": [
            "La posicion n°1 de la sucesion es: 1\n",
            "La posicion n°2 de la sucesion es: 1\n",
            "La posicion n°3 de la sucesion es: 2\n",
            "La posicion n°4 de la sucesion es: 3\n",
            "La posicion n°5 de la sucesion es: 5\n",
            "La posicion n°6 de la sucesion es: 8\n",
            "La posicion n°7 de la sucesion es: 13\n",
            "La posicion n°8 de la sucesion es: 21\n",
            "La posicion n°9 de la sucesion es: 34\n",
            "La posicion n°10 de la sucesion es: 55\n",
            "La posicion n°11 de la sucesion es: 89\n",
            "La posicion n°12 de la sucesion es: 144\n",
            "La posicion n°13 de la sucesion es: 233\n",
            "La posicion n°14 de la sucesion es: 377\n",
            "La posicion n°15 de la sucesion es: 610\n",
            "La posicion n°16 de la sucesion es: 987\n",
            "La posicion n°17 de la sucesion es: 1597\n",
            "La posicion n°18 de la sucesion es: 2584\n",
            "La posicion n°19 de la sucesion es: 4181\n",
            "La posicion n°20 de la sucesion es: 6765\n"
          ]
        }
      ],
      "source": [
        "#3.1\n",
        "lista = []\n",
        "\n",
        "def f(n):\n",
        "    if n <= 0:\n",
        "        return 0\n",
        "    elif n == 1:\n",
        "        return 1\n",
        "    else:\n",
        "        return f(n-1) + f(n-2)\n",
        "for i in range(1,21):\n",
        "    fib = f(i)\n",
        "    lista.append(fib)\n",
        "a= 1\n",
        "for k in lista:\n",
        "    print(f'La posicion n°{a} de la sucesion es: {k}')\n",
        "    a+=1"
      ]
    },
    {
      "cell_type": "code",
      "execution_count": null,
      "metadata": {
        "id": "OInzJXg-9ZDl",
        "outputId": "0b102918-240e-436c-bbd5-739306e6c875"
      },
      "outputs": [
        {
          "name": "stdout",
          "output_type": "stream",
          "text": [
            "La suma de los 30 primeros numeros es de: 1346268\n"
          ]
        }
      ],
      "source": [
        "#3.2:\n",
        "suma = 0\n",
        "lista = []\n",
        "\n",
        "def f(n):\n",
        "    if n <= 0:\n",
        "        return 0\n",
        "    elif n == 1:\n",
        "        return 1\n",
        "    else:\n",
        "        return f(n-1) + f(n-2)\n",
        "\n",
        "for i in range(1,30):\n",
        "    fib = f(i)\n",
        "    suma += fib\n",
        "    lista.append(fib)\n",
        "\n",
        "print(f'La suma de los 30 primeros numeros es de: {suma}')"
      ]
    },
    {
      "cell_type": "markdown",
      "metadata": {
        "id": "OFL3b7nt8Rq_"
      },
      "source": [
        "# Problema 4"
      ]
    },
    {
      "cell_type": "markdown",
      "metadata": {
        "id": "j5QlZQwJSDsZ"
      },
      "source": [
        "Implementa un código que permita guardar en una lista la sucesión de los primeros $n$ números pares, con $n \\geq 1$. Luego, determina:\n",
        "\n",
        "1. ¿Cuál es el valor del décimo término?\n",
        "2. Calcula, utilizando un ciclo *for*, la suma de los primeros $100$ números pares.\n",
        "3. ¿En qué posición se encuentra el número $58$ dentro de la sucesión?"
      ]
    },
    {
      "cell_type": "code",
      "execution_count": null,
      "metadata": {
        "id": "kqxVf6X09ZDm",
        "outputId": "dc9f711a-1fb3-4445-b887-38fd3e9fb43e"
      },
      "outputs": [
        {
          "name": "stdout",
          "output_type": "stream",
          "text": [
            "El decimo numero par de la sucesión es: 20\n"
          ]
        }
      ],
      "source": [
        "#4.1:\n",
        "pares = []\n",
        "n = 2\n",
        "for i in range(0, 10):\n",
        "    pares.append(n)\n",
        "    n += 2\n",
        "print(f'El decimo numero par de la sucesión es: {pares[9]}')"
      ]
    },
    {
      "cell_type": "code",
      "execution_count": null,
      "metadata": {
        "id": "0OGDbVfS9ZDm",
        "outputId": "464f29ae-793f-4c4e-abe8-500e39361df5"
      },
      "outputs": [
        {
          "name": "stdout",
          "output_type": "stream",
          "text": [
            "La suma de los primeros 100 numeros pares es: 10100\n"
          ]
        }
      ],
      "source": [
        "#4.2:\n",
        "pares = []\n",
        "n = 2\n",
        "for i in range(0, 100):\n",
        "    pares.append(n)\n",
        "    n += 2\n",
        "\n",
        "print(f'La suma de los primeros 100 numeros pares es: {sum(pares)}')"
      ]
    },
    {
      "cell_type": "code",
      "execution_count": null,
      "metadata": {
        "id": "Z1LD1HSI9ZDm",
        "outputId": "682e4fae-8568-4e53-d1c4-4d492e29909a"
      },
      "outputs": [
        {
          "name": "stdout",
          "output_type": "stream",
          "text": [
            "El numero 58 se encuentra en la posicion numero 29\n"
          ]
        }
      ],
      "source": [
        "pares = []\n",
        "n = 2\n",
        "for i in range(0, 100):\n",
        "    pares.append(n)\n",
        "    n += 2\n",
        "\n",
        "print(f'El numero 58 se encuentra en la posicion numero {pares.index(58)+1}')"
      ]
    },
    {
      "cell_type": "markdown",
      "metadata": {
        "id": "gBcDYpK2Z3GT"
      },
      "source": [
        "# Problema 5"
      ]
    },
    {
      "cell_type": "markdown",
      "metadata": {
        "id": "eS3i68R4Z6YQ"
      },
      "source": [
        "Un nuevo software tiene $500$ usuarios y se espera que el número de usuarios crezca un $15\\%$ respecto al mes anterior. Considere que $b_{n}$ es el número de usuarios transcurridos $n$ meses.\n",
        "\n",
        "1. Calcula cuántos usuarios tendrá el software al cabo de tres meses. ¿Y al cabo de seis meses?\n",
        "2. Mediante un código en *Pyhton* muestra la cantidad de usuarios que tendrá el software cada mes durante el primer año.\n",
        "2. ¿Cuántos usuarios tendrá en total el software luego de un año? Utilice ciclos *for* para calcular."
      ]
    },
    {
      "cell_type": "code",
      "execution_count": null,
      "metadata": {
        "id": "wK-4TLVP9ZDn",
        "outputId": "d5955179-12cb-44f8-92a2-9e0b2f8fd3c5"
      },
      "outputs": [
        {
          "name": "stdout",
          "output_type": "stream",
          "text": [
            "La cantidad de usuarios pasados 3 meses es de 760, y al haber pasado 6 meses la cantidad será de: 1157\n"
          ]
        }
      ],
      "source": [
        "#5.1\n",
        "b_n = [500]\n",
        "for i in range(0,6):\n",
        "    n = b_n[i] * 1.15\n",
        "    b_n.append(n)\n",
        "\n",
        "print(f'La cantidad de usuarios pasados 3 meses es de {b_n[3]:.0f}, y al haber pasado 6 meses la cantidad será de: {b_n[6]:.0f}')"
      ]
    },
    {
      "cell_type": "code",
      "execution_count": null,
      "metadata": {
        "id": "TfSDaPlJ9ZDn",
        "outputId": "48514cc0-24b7-4c11-ac43-d49f674a428d"
      },
      "outputs": [
        {
          "name": "stdout",
          "output_type": "stream",
          "text": [
            "En el mes n°1 del primer año, la cantidad de usuarios será de 575\n",
            "En el mes n°2 del primer año, la cantidad de usuarios será de 661\n",
            "En el mes n°3 del primer año, la cantidad de usuarios será de 760\n",
            "En el mes n°4 del primer año, la cantidad de usuarios será de 875\n",
            "En el mes n°5 del primer año, la cantidad de usuarios será de 1006\n",
            "En el mes n°6 del primer año, la cantidad de usuarios será de 1157\n",
            "En el mes n°7 del primer año, la cantidad de usuarios será de 1330\n",
            "En el mes n°8 del primer año, la cantidad de usuarios será de 1530\n",
            "En el mes n°9 del primer año, la cantidad de usuarios será de 1759\n",
            "En el mes n°10 del primer año, la cantidad de usuarios será de 2023\n",
            "En el mes n°11 del primer año, la cantidad de usuarios será de 2326\n",
            "En el mes n°12 del primer año, la cantidad de usuarios será de 2675\n"
          ]
        }
      ],
      "source": [
        "#5.2:\n",
        "b_n = [500]\n",
        "for i in range(0,12):\n",
        "    n = b_n[i] * 1.15\n",
        "    b_n.append(n)\n",
        "for i in range(1,13):\n",
        "    print(f'En el mes n°{i} del primer año, la cantidad de usuarios será de {b_n[i]:.0f}')"
      ]
    },
    {
      "cell_type": "code",
      "execution_count": null,
      "metadata": {
        "id": "Ielz7zKb9ZDn",
        "outputId": "9eb44060-2bbb-4588-aa5c-619ea259b0f9"
      },
      "outputs": [
        {
          "name": "stdout",
          "output_type": "stream",
          "text": [
            "Pasados un año, la cantidad de usuarios acumulados será de 17176\n"
          ]
        }
      ],
      "source": [
        "#5.3:\n",
        "b_n = [500]\n",
        "for i in range(0,12):\n",
        "    n = b_n[i] * 1.15\n",
        "    b_n.append(n)\n",
        "print(f'Pasados un año, la cantidad de usuarios acumulados será de {sum(b_n):.0f}')"
      ]
    },
    {
      "cell_type": "markdown",
      "metadata": {
        "id": "s2hruXWnJDbS"
      },
      "source": [
        "# Problema 6"
      ]
    },
    {
      "cell_type": "markdown",
      "metadata": {
        "id": "hH_VNmA_Og0U"
      },
      "source": [
        "Un estudiante de ingeniería informática planea ahorrar para un proyecto personal. Para esto, el primer mes deposita $\\$12.000$ y cada mes aumenta el depósito en $\\$2.000$. Considere que $a_{i}$ corresponde al depósito mensual del estudiante. Determine:\n",
        "\n",
        "1. Implementa un código que permita mostrar en pantalla lo que depositó mensualmente durante el primer año.\n",
        "2. ¿Cuánto depositó el estudiante en febrero del segundo año?\n",
        "3. ¿Cuál será el total ahorrado al finalizar dos años?"
      ]
    },
    {
      "cell_type": "code",
      "execution_count": null,
      "metadata": {
        "id": "Up39FEoS9ZDn",
        "outputId": "e034ba6a-6b74-4596-9779-befe0541a117"
      },
      "outputs": [
        {
          "name": "stdout",
          "output_type": "stream",
          "text": [
            "El primer año, el estudiante habrá depositado 276000\n"
          ]
        }
      ],
      "source": [
        "#6.1:\n",
        "ai = [12000]\n",
        "aumento = 2000\n",
        "for i in range(0,11):\n",
        "    n = ai[i] + 2000\n",
        "    ai.append(n)\n",
        "print(f'El primer año, el estudiante habrá depositado {sum(ai)}')"
      ]
    },
    {
      "cell_type": "code",
      "execution_count": null,
      "metadata": {
        "id": "yc4E_i-c9ZDo",
        "outputId": "9c0b7447-0a1b-4d9f-9ea7-da8d3d7b31bc"
      },
      "outputs": [
        {
          "name": "stdout",
          "output_type": "stream",
          "text": [
            "Si el primer depositó fue en enero, el deposito de febrero del año 2 (o el mes n°14) fue de 38000\n"
          ]
        }
      ],
      "source": [
        "#6.2:\n",
        "ai = [12000]\n",
        "aumento = 2000\n",
        "for i in range(0,13):\n",
        "    n = ai[i] + 2000\n",
        "    ai.append(n)\n",
        "print(f'Si el primer depositó fue en enero, el deposito de febrero del año 2 (o el mes n°14) fue de {ai[13]}')"
      ]
    },
    {
      "cell_type": "code",
      "execution_count": null,
      "metadata": {
        "id": "U10RutTc9ZDo",
        "outputId": "9e493237-c583-47e3-c309-7475675c3e22"
      },
      "outputs": [
        {
          "name": "stdout",
          "output_type": "stream",
          "text": [
            "Pasados dos años (o 24 meses), el total ahorrado será de 840000\n"
          ]
        }
      ],
      "source": [
        "#6.3:\n",
        "ai = [12000]\n",
        "aumento = 2000\n",
        "for i in range(0,23):\n",
        "    n = ai[i] + 2000\n",
        "    ai.append(n)\n",
        "print(f'Pasados dos años (o 24 meses), el total ahorrado será de {sum(ai)}')"
      ]
    },
    {
      "cell_type": "markdown",
      "metadata": {
        "id": "G9sEfl4rB3e8"
      },
      "source": [
        "# Problema 7"
      ]
    },
    {
      "cell_type": "markdown",
      "metadata": {
        "id": "KZUNnG20CT4F"
      },
      "source": [
        "Por lo general, los proyectos son organizados en varias etapas que deben completarse secuencialmente.\n",
        "\n",
        "La fase inicial de un proyecto de software tiene una duración de $3$ meses y cada fase subsecuente reduce su duración en un $10 \\%$ debido a la experiencia ganada. Determine:\n",
        "\n",
        "1. ¿Cuánto dura la quinta fase?\n",
        "2. Calcula la duración total del proyecto después de $10$ fases."
      ]
    },
    {
      "cell_type": "code",
      "execution_count": null,
      "metadata": {
        "id": "Ydf97rDz9ZDo",
        "outputId": "9202133f-075f-47ae-afc9-9c85fd55ec0d"
      },
      "outputs": [
        {
          "name": "stdout",
          "output_type": "stream",
          "text": [
            "La quinta fase durara 1.9683000000000002 meses\n"
          ]
        }
      ],
      "source": [
        "#7.1:\n",
        "fases = [3]\n",
        "for i in range(0,4):\n",
        "    n = fases[i] - fases[i]*0.10\n",
        "    fases.append(n)\n",
        "print(f'La quinta fase durara {fases[4]} meses')"
      ]
    },
    {
      "cell_type": "code",
      "execution_count": null,
      "metadata": {
        "id": "JrzmG1jr9ZDo",
        "outputId": "0cd648b1-a3c2-45b1-8061-3221510ff739"
      },
      "outputs": [
        {
          "name": "stdout",
          "output_type": "stream",
          "text": [
            "En la fase 10, el proyecto llevará una duracion acumulada de 19.539646797\n"
          ]
        }
      ],
      "source": [
        "#7.2:\n",
        "fases = [3]\n",
        "for i in range(0,9):\n",
        "    n = fases[i] - fases[i]*0.10\n",
        "    fases.append(n)\n",
        "print(f'En la fase 10, el proyecto llevará una duracion acumulada de {sum(fases)}')"
      ]
    },
    {
      "cell_type": "markdown",
      "metadata": {
        "id": "keVOy_xIlU1E"
      },
      "source": [
        "# Problema 8"
      ]
    },
    {
      "cell_type": "markdown",
      "metadata": {
        "id": "QXrNG-zulXil"
      },
      "source": [
        "En una sucesión aritmética, la diferencia entre un término y el anterior es $4$ y el décimo término es $-20$. Determine:\n",
        "\n",
        "1. El primer término de la sucesión.\n",
        "2. La expresión del término de lugar $n$.\n",
        "3. Utilice un código en *Python* para calcular el término que ocupa el lugar $100$.\n",
        "4. Determinar la posición del número $1.680$ en la secuencia. Calcule utilizando un ciclo *while*."
      ]
    },
    {
      "cell_type": "code",
      "execution_count": null,
      "metadata": {
        "id": "au8D-kb69ZDp"
      },
      "outputs": [],
      "source": []
    },
    {
      "cell_type": "markdown",
      "metadata": {
        "id": "gFYqGSbdqoqT"
      },
      "source": [
        "# Problema 9"
      ]
    },
    {
      "cell_type": "markdown",
      "metadata": {
        "id": "UtblbNCYqxOM"
      },
      "source": [
        "El tercer término de una sucesión geométrica es $5$ y el sexto término es $40$. Determine:\n",
        "\n",
        "1. La razón geométrica de la sucesión.\n",
        "2. El primer término de la sucesión.\n",
        "3. La expresión del término de lugar $n$.\n",
        "4. Utilice un código en *Python* para calcular el término que ocupa el lugar $8$.\n",
        "4. ¿Qué lugar ocupa en esta sucesión el término $20.480$? Calcule utilizando un ciclo *while*."
      ]
    },
    {
      "cell_type": "markdown",
      "metadata": {
        "id": "Ju4J8uWfxQKk"
      },
      "source": [
        "# Problema 10"
      ]
    },
    {
      "cell_type": "markdown",
      "metadata": {
        "id": "F6FPVCXQxTMj"
      },
      "source": [
        "Una empresa de tecnología está optimizando sus servidores. Para ello, mide cada mes las transacciones por segundo (TPS) de sus servidores. Se ha obtenido que el segundo mes, el rendimiento del servidor es $1,2$ miles de TPS y el quinto mes, el rendimiento es de $2,7$ miles de TPS. Determina utilizando un código en *Python*:\n",
        "\n",
        "1. ¿Cuál es el rendimiento el noveno mes?\n",
        "2. ¿En qué mes el rendimiento es de $23,4$ miles de TPS?\n",
        "\n",
        "Utilice dos decimales para el cálculo."
      ]
    },
    {
      "cell_type": "markdown",
      "metadata": {
        "id": "jxQyaJXUCW7m"
      },
      "source": [
        "# Problema 11"
      ]
    },
    {
      "cell_type": "markdown",
      "metadata": {
        "id": "8LdxsBUwDfbf"
      },
      "source": [
        "Una aplicación de redes sociales inició el $1$ de enero y comenzó a ganar usuarios rápidamente. El $3$ de enero tenía $500$ usuarios y el $10$ de enero tenía $1.501$ usuarios. Si el número de usuarios sigue creciendo de manera constante, determine:\n",
        "\n",
        "1. ¿Con cuántos usuarios comenzó a funcionar la aplicación?\n",
        "2. ¿Cuántos usuarios tendrá la aplicación el $31$ de enero?\n",
        "3. Si la aplicación tiene $5.505$ usuarios, ¿cuántos meses lleva funcionando?\n",
        "\n"
      ]
    },
    {
      "cell_type": "markdown",
      "metadata": {
        "id": "zBN3BhYVLLSe"
      },
      "source": [
        "# Problema 12"
      ]
    },
    {
      "cell_type": "markdown",
      "metadata": {
        "id": "kszkhh_GLQN1"
      },
      "source": [
        "Una empresa de publicidad ofrece para un puesto de trabajo un salario inicial y un aumento mensual en una razón constante. Javier se presenta a la entrevista, y el encargado del departamento de recursos humanos le explica que en el segundo mes de trabajo su sueldo será de $\\$402.000$, y que en el tercer mes de trabajo será de $\\$404.010$. Determine:\n",
        "\n",
        "1. El salario aproximado que Javier recibiría en el décimo mes de trabajo en la empresa.\n",
        "2. ¿Cuál sería el ingreso total recibido por los sueldos de Javier durante el tercer año de trabajo?"
      ]
    },
    {
      "cell_type": "markdown",
      "metadata": {
        "id": "-lx5k4b9Y8sD"
      },
      "source": [
        "# Problema 13"
      ]
    },
    {
      "cell_type": "markdown",
      "metadata": {
        "id": "OVuWQuXsY_pp"
      },
      "source": [
        "Una empresa de ciberseguridad capacita trabajadores cada trimestre. En el primer trimestre capacitaron a $30$ trabajadores, en el segundo trimestre a $60$ trabajadores, y en el tercer trimestre a $120$ trabajadores. Si en los siguientes trimestres la empresa mantiene el mismo patrón de crecimiento, determine utilizando *Python*:\n",
        "\n",
        "1. ¿A cuántos trabajadores capacitarán en el octavo trimestre?\n",
        "2. Si la empresa lleva en el mercado $3$ años, ¿a cuántos trabajadores han capacitado en total?"
      ]
    },
    {
      "cell_type": "markdown",
      "metadata": {
        "id": "IM7Xf51G6AXs"
      },
      "source": [
        "# Problema 14"
      ]
    },
    {
      "cell_type": "markdown",
      "metadata": {
        "id": "Ni_4WMQl6OeV"
      },
      "source": [
        "Al llenar un tambor con agua, se registra que durante el minuto $4$ el tambor recibe $128$ litros, y durante el minuto $9$ recibe $88$ litros. Sabiendo que en cada minuto recibe una cantidad $d$ de litros de agua menos que en el minuto anterior, determine:\n",
        "\n",
        "1. ¿En qué instante el tambor deja de recibir agua?\n",
        "2. ¿Cuántos litros recibe en total el tambor?\n",
        "\n",
        "Realice los cálculos anteriores utilizando *Python*."
      ]
    }
  ],
  "metadata": {
    "colab": {
      "provenance": []
    },
    "kernelspec": {
      "display_name": "Python 3",
      "name": "python3"
    },
    "language_info": {
      "name": "python"
    }
  },
  "nbformat": 4,
  "nbformat_minor": 0
}